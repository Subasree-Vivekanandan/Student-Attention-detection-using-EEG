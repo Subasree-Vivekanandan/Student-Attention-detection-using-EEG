{
 "cells": [
  {
   "cell_type": "markdown",
   "id": "70cea60b",
   "metadata": {},
   "source": [
    "### Importing Libraries and Loading the data"
   ]
  },
  {
   "cell_type": "code",
   "execution_count": 1,
   "id": "99215f82",
   "metadata": {},
   "outputs": [],
   "source": [
    "import pandas as pd\n",
    "import numpy as np\n",
    "import matplotlib.pyplot as plt\n",
    "%matplotlib inline"
   ]
  },
  {
   "cell_type": "code",
   "execution_count": 2,
   "id": "cf328052",
   "metadata": {},
   "outputs": [
    {
     "data": {
      "text/html": [
       "<div>\n",
       "<style scoped>\n",
       "    .dataframe tbody tr th:only-of-type {\n",
       "        vertical-align: middle;\n",
       "    }\n",
       "\n",
       "    .dataframe tbody tr th {\n",
       "        vertical-align: top;\n",
       "    }\n",
       "\n",
       "    .dataframe thead th {\n",
       "        text-align: right;\n",
       "    }\n",
       "</style>\n",
       "<table border=\"1\" class=\"dataframe\">\n",
       "  <thead>\n",
       "    <tr style=\"text-align: right;\">\n",
       "      <th></th>\n",
       "      <th>SubjectID</th>\n",
       "      <th>VideoID</th>\n",
       "      <th>Attention</th>\n",
       "      <th>Mediation</th>\n",
       "      <th>Raw</th>\n",
       "      <th>Delta</th>\n",
       "      <th>Theta</th>\n",
       "      <th>Alpha1</th>\n",
       "      <th>Alpha2</th>\n",
       "      <th>Beta1</th>\n",
       "      <th>...</th>\n",
       "      <th>Gamma1</th>\n",
       "      <th>Gamma2</th>\n",
       "      <th>predefinedlabel</th>\n",
       "      <th>user-definedlabeln</th>\n",
       "      <th>Age</th>\n",
       "      <th>Ethnicity_Bengali</th>\n",
       "      <th>Ethnicity_English</th>\n",
       "      <th>Ethnicity_Han Chinese</th>\n",
       "      <th>Gender_F</th>\n",
       "      <th>Gender_M</th>\n",
       "    </tr>\n",
       "  </thead>\n",
       "  <tbody>\n",
       "    <tr>\n",
       "      <th>0</th>\n",
       "      <td>0.0</td>\n",
       "      <td>0.0</td>\n",
       "      <td>56.0</td>\n",
       "      <td>43.0</td>\n",
       "      <td>278.0</td>\n",
       "      <td>301963.0</td>\n",
       "      <td>90612.0</td>\n",
       "      <td>33735.0</td>\n",
       "      <td>23991.0</td>\n",
       "      <td>27946.0</td>\n",
       "      <td>...</td>\n",
       "      <td>33228.0</td>\n",
       "      <td>8293.0</td>\n",
       "      <td>0.0</td>\n",
       "      <td>0.0</td>\n",
       "      <td>25</td>\n",
       "      <td>0</td>\n",
       "      <td>0</td>\n",
       "      <td>1</td>\n",
       "      <td>0</td>\n",
       "      <td>1</td>\n",
       "    </tr>\n",
       "    <tr>\n",
       "      <th>1</th>\n",
       "      <td>0.0</td>\n",
       "      <td>0.0</td>\n",
       "      <td>40.0</td>\n",
       "      <td>35.0</td>\n",
       "      <td>-50.0</td>\n",
       "      <td>73787.0</td>\n",
       "      <td>28083.0</td>\n",
       "      <td>1439.0</td>\n",
       "      <td>2240.0</td>\n",
       "      <td>2746.0</td>\n",
       "      <td>...</td>\n",
       "      <td>5293.0</td>\n",
       "      <td>2740.0</td>\n",
       "      <td>0.0</td>\n",
       "      <td>0.0</td>\n",
       "      <td>25</td>\n",
       "      <td>0</td>\n",
       "      <td>0</td>\n",
       "      <td>1</td>\n",
       "      <td>0</td>\n",
       "      <td>1</td>\n",
       "    </tr>\n",
       "    <tr>\n",
       "      <th>2</th>\n",
       "      <td>0.0</td>\n",
       "      <td>0.0</td>\n",
       "      <td>47.0</td>\n",
       "      <td>48.0</td>\n",
       "      <td>101.0</td>\n",
       "      <td>758353.0</td>\n",
       "      <td>383745.0</td>\n",
       "      <td>201999.0</td>\n",
       "      <td>62107.0</td>\n",
       "      <td>36293.0</td>\n",
       "      <td>...</td>\n",
       "      <td>57243.0</td>\n",
       "      <td>25354.0</td>\n",
       "      <td>0.0</td>\n",
       "      <td>0.0</td>\n",
       "      <td>25</td>\n",
       "      <td>0</td>\n",
       "      <td>0</td>\n",
       "      <td>1</td>\n",
       "      <td>0</td>\n",
       "      <td>1</td>\n",
       "    </tr>\n",
       "    <tr>\n",
       "      <th>3</th>\n",
       "      <td>0.0</td>\n",
       "      <td>0.0</td>\n",
       "      <td>47.0</td>\n",
       "      <td>57.0</td>\n",
       "      <td>-5.0</td>\n",
       "      <td>2012240.0</td>\n",
       "      <td>129350.0</td>\n",
       "      <td>61236.0</td>\n",
       "      <td>17084.0</td>\n",
       "      <td>11488.0</td>\n",
       "      <td>...</td>\n",
       "      <td>49960.0</td>\n",
       "      <td>33932.0</td>\n",
       "      <td>0.0</td>\n",
       "      <td>0.0</td>\n",
       "      <td>25</td>\n",
       "      <td>0</td>\n",
       "      <td>0</td>\n",
       "      <td>1</td>\n",
       "      <td>0</td>\n",
       "      <td>1</td>\n",
       "    </tr>\n",
       "    <tr>\n",
       "      <th>4</th>\n",
       "      <td>0.0</td>\n",
       "      <td>0.0</td>\n",
       "      <td>44.0</td>\n",
       "      <td>53.0</td>\n",
       "      <td>-8.0</td>\n",
       "      <td>1005145.0</td>\n",
       "      <td>354328.0</td>\n",
       "      <td>37102.0</td>\n",
       "      <td>88881.0</td>\n",
       "      <td>45307.0</td>\n",
       "      <td>...</td>\n",
       "      <td>44790.0</td>\n",
       "      <td>29749.0</td>\n",
       "      <td>0.0</td>\n",
       "      <td>0.0</td>\n",
       "      <td>25</td>\n",
       "      <td>0</td>\n",
       "      <td>0</td>\n",
       "      <td>1</td>\n",
       "      <td>0</td>\n",
       "      <td>1</td>\n",
       "    </tr>\n",
       "  </tbody>\n",
       "</table>\n",
       "<p>5 rows × 21 columns</p>\n",
       "</div>"
      ],
      "text/plain": [
       "   SubjectID  VideoID  Attention  Mediation    Raw      Delta     Theta  \\\n",
       "0        0.0      0.0       56.0       43.0  278.0   301963.0   90612.0   \n",
       "1        0.0      0.0       40.0       35.0  -50.0    73787.0   28083.0   \n",
       "2        0.0      0.0       47.0       48.0  101.0   758353.0  383745.0   \n",
       "3        0.0      0.0       47.0       57.0   -5.0  2012240.0  129350.0   \n",
       "4        0.0      0.0       44.0       53.0   -8.0  1005145.0  354328.0   \n",
       "\n",
       "     Alpha1   Alpha2    Beta1  ...   Gamma1   Gamma2  predefinedlabel  \\\n",
       "0   33735.0  23991.0  27946.0  ...  33228.0   8293.0              0.0   \n",
       "1    1439.0   2240.0   2746.0  ...   5293.0   2740.0              0.0   \n",
       "2  201999.0  62107.0  36293.0  ...  57243.0  25354.0              0.0   \n",
       "3   61236.0  17084.0  11488.0  ...  49960.0  33932.0              0.0   \n",
       "4   37102.0  88881.0  45307.0  ...  44790.0  29749.0              0.0   \n",
       "\n",
       "   user-definedlabeln  Age  Ethnicity_Bengali  Ethnicity_English  \\\n",
       "0                 0.0   25                  0                  0   \n",
       "1                 0.0   25                  0                  0   \n",
       "2                 0.0   25                  0                  0   \n",
       "3                 0.0   25                  0                  0   \n",
       "4                 0.0   25                  0                  0   \n",
       "\n",
       "   Ethnicity_Han Chinese  Gender_F  Gender_M  \n",
       "0                      1         0         1  \n",
       "1                      1         0         1  \n",
       "2                      1         0         1  \n",
       "3                      1         0         1  \n",
       "4                      1         0         1  \n",
       "\n",
       "[5 rows x 21 columns]"
      ]
     },
     "execution_count": 2,
     "metadata": {},
     "output_type": "execute_result"
    }
   ],
   "source": [
    "df = pd.read_csv(\"merged_data_after_dummies.csv\")\n",
    "df.head()"
   ]
  },
  {
   "cell_type": "code",
   "execution_count": 3,
   "id": "38944c39",
   "metadata": {},
   "outputs": [
    {
     "data": {
      "text/html": [
       "<div>\n",
       "<style scoped>\n",
       "    .dataframe tbody tr th:only-of-type {\n",
       "        vertical-align: middle;\n",
       "    }\n",
       "\n",
       "    .dataframe tbody tr th {\n",
       "        vertical-align: top;\n",
       "    }\n",
       "\n",
       "    .dataframe thead th {\n",
       "        text-align: right;\n",
       "    }\n",
       "</style>\n",
       "<table border=\"1\" class=\"dataframe\">\n",
       "  <thead>\n",
       "    <tr style=\"text-align: right;\">\n",
       "      <th></th>\n",
       "      <th>SubjectID</th>\n",
       "      <th>VideoID</th>\n",
       "      <th>Attention</th>\n",
       "      <th>Mediation</th>\n",
       "      <th>Raw</th>\n",
       "      <th>Delta</th>\n",
       "      <th>Theta</th>\n",
       "      <th>Alpha1</th>\n",
       "      <th>Alpha2</th>\n",
       "      <th>Beta1</th>\n",
       "      <th>...</th>\n",
       "      <th>Gamma1</th>\n",
       "      <th>Gamma2</th>\n",
       "      <th>predefinedlabel</th>\n",
       "      <th>user-definedlabeln</th>\n",
       "      <th>Age</th>\n",
       "      <th>Ethnicity_Bengali</th>\n",
       "      <th>Ethnicity_English</th>\n",
       "      <th>Ethnicity_Han Chinese</th>\n",
       "      <th>Gender_F</th>\n",
       "      <th>Gender_M</th>\n",
       "    </tr>\n",
       "  </thead>\n",
       "  <tbody>\n",
       "    <tr>\n",
       "      <th>269</th>\n",
       "      <td>0.0</td>\n",
       "      <td>1.0</td>\n",
       "      <td>38.0</td>\n",
       "      <td>60.0</td>\n",
       "      <td>-94.0</td>\n",
       "      <td>360184.0</td>\n",
       "      <td>224520.0</td>\n",
       "      <td>47677.0</td>\n",
       "      <td>81076.0</td>\n",
       "      <td>21971.0</td>\n",
       "      <td>...</td>\n",
       "      <td>29442.0</td>\n",
       "      <td>41282.0</td>\n",
       "      <td>0.0</td>\n",
       "      <td>1.0</td>\n",
       "      <td>25</td>\n",
       "      <td>0</td>\n",
       "      <td>0</td>\n",
       "      <td>1</td>\n",
       "      <td>0</td>\n",
       "      <td>1</td>\n",
       "    </tr>\n",
       "    <tr>\n",
       "      <th>10834</th>\n",
       "      <td>8.0</td>\n",
       "      <td>4.0</td>\n",
       "      <td>41.0</td>\n",
       "      <td>51.0</td>\n",
       "      <td>132.0</td>\n",
       "      <td>39310.0</td>\n",
       "      <td>173954.0</td>\n",
       "      <td>21064.0</td>\n",
       "      <td>15059.0</td>\n",
       "      <td>5171.0</td>\n",
       "      <td>...</td>\n",
       "      <td>5052.0</td>\n",
       "      <td>4793.0</td>\n",
       "      <td>0.0</td>\n",
       "      <td>1.0</td>\n",
       "      <td>25</td>\n",
       "      <td>0</td>\n",
       "      <td>0</td>\n",
       "      <td>1</td>\n",
       "      <td>0</td>\n",
       "      <td>1</td>\n",
       "    </tr>\n",
       "    <tr>\n",
       "      <th>4170</th>\n",
       "      <td>3.0</td>\n",
       "      <td>2.0</td>\n",
       "      <td>61.0</td>\n",
       "      <td>66.0</td>\n",
       "      <td>55.0</td>\n",
       "      <td>2065439.0</td>\n",
       "      <td>41729.0</td>\n",
       "      <td>10341.0</td>\n",
       "      <td>36962.0</td>\n",
       "      <td>12215.0</td>\n",
       "      <td>...</td>\n",
       "      <td>7066.0</td>\n",
       "      <td>3188.0</td>\n",
       "      <td>0.0</td>\n",
       "      <td>0.0</td>\n",
       "      <td>28</td>\n",
       "      <td>0</td>\n",
       "      <td>0</td>\n",
       "      <td>1</td>\n",
       "      <td>1</td>\n",
       "      <td>0</td>\n",
       "    </tr>\n",
       "    <tr>\n",
       "      <th>8212</th>\n",
       "      <td>6.0</td>\n",
       "      <td>3.0</td>\n",
       "      <td>0.0</td>\n",
       "      <td>0.0</td>\n",
       "      <td>1352.0</td>\n",
       "      <td>552761.0</td>\n",
       "      <td>192095.0</td>\n",
       "      <td>231738.0</td>\n",
       "      <td>140236.0</td>\n",
       "      <td>60193.0</td>\n",
       "      <td>...</td>\n",
       "      <td>124420.0</td>\n",
       "      <td>60702.0</td>\n",
       "      <td>0.0</td>\n",
       "      <td>1.0</td>\n",
       "      <td>24</td>\n",
       "      <td>0</td>\n",
       "      <td>0</td>\n",
       "      <td>1</td>\n",
       "      <td>0</td>\n",
       "      <td>1</td>\n",
       "    </tr>\n",
       "    <tr>\n",
       "      <th>6412</th>\n",
       "      <td>4.0</td>\n",
       "      <td>9.0</td>\n",
       "      <td>27.0</td>\n",
       "      <td>51.0</td>\n",
       "      <td>34.0</td>\n",
       "      <td>15648.0</td>\n",
       "      <td>19387.0</td>\n",
       "      <td>1314.0</td>\n",
       "      <td>10042.0</td>\n",
       "      <td>1965.0</td>\n",
       "      <td>...</td>\n",
       "      <td>2424.0</td>\n",
       "      <td>3275.0</td>\n",
       "      <td>1.0</td>\n",
       "      <td>0.0</td>\n",
       "      <td>24</td>\n",
       "      <td>1</td>\n",
       "      <td>0</td>\n",
       "      <td>0</td>\n",
       "      <td>0</td>\n",
       "      <td>1</td>\n",
       "    </tr>\n",
       "  </tbody>\n",
       "</table>\n",
       "<p>5 rows × 21 columns</p>\n",
       "</div>"
      ],
      "text/plain": [
       "       SubjectID  VideoID  Attention  Mediation     Raw      Delta     Theta  \\\n",
       "269          0.0      1.0       38.0       60.0   -94.0   360184.0  224520.0   \n",
       "10834        8.0      4.0       41.0       51.0   132.0    39310.0  173954.0   \n",
       "4170         3.0      2.0       61.0       66.0    55.0  2065439.0   41729.0   \n",
       "8212         6.0      3.0        0.0        0.0  1352.0   552761.0  192095.0   \n",
       "6412         4.0      9.0       27.0       51.0    34.0    15648.0   19387.0   \n",
       "\n",
       "         Alpha1    Alpha2    Beta1  ...    Gamma1   Gamma2  predefinedlabel  \\\n",
       "269     47677.0   81076.0  21971.0  ...   29442.0  41282.0              0.0   \n",
       "10834   21064.0   15059.0   5171.0  ...    5052.0   4793.0              0.0   \n",
       "4170    10341.0   36962.0  12215.0  ...    7066.0   3188.0              0.0   \n",
       "8212   231738.0  140236.0  60193.0  ...  124420.0  60702.0              0.0   \n",
       "6412     1314.0   10042.0   1965.0  ...    2424.0   3275.0              1.0   \n",
       "\n",
       "       user-definedlabeln  Age  Ethnicity_Bengali  Ethnicity_English  \\\n",
       "269                   1.0   25                  0                  0   \n",
       "10834                 1.0   25                  0                  0   \n",
       "4170                  0.0   28                  0                  0   \n",
       "8212                  1.0   24                  0                  0   \n",
       "6412                  0.0   24                  1                  0   \n",
       "\n",
       "       Ethnicity_Han Chinese  Gender_F  Gender_M  \n",
       "269                        1         0         1  \n",
       "10834                      1         0         1  \n",
       "4170                       1         1         0  \n",
       "8212                       1         0         1  \n",
       "6412                       0         0         1  \n",
       "\n",
       "[5 rows x 21 columns]"
      ]
     },
     "execution_count": 3,
     "metadata": {},
     "output_type": "execute_result"
    }
   ],
   "source": [
    "df = df.sample(frac=1)\n",
    "df.head()"
   ]
  },
  {
   "cell_type": "markdown",
   "id": "b65e9f42",
   "metadata": {},
   "source": [
    "### Feature selection"
   ]
  },
  {
   "cell_type": "code",
   "execution_count": 4,
   "id": "199ff458",
   "metadata": {},
   "outputs": [],
   "source": [
    "X = df.drop(columns=[\"Age\",\"Ethnicity_Bengali\",\"Ethnicity_English\",\"Ethnicity_Han Chinese\",\"Gender_F\",\"Gender_M\",\"user-definedlabeln\",\"predefinedlabel\"],axis=1)\n",
    "y = df[\"user-definedlabeln\"]"
   ]
  },
  {
   "cell_type": "markdown",
   "id": "b8db8e93",
   "metadata": {},
   "source": [
    "### Splitting training and test data"
   ]
  },
  {
   "cell_type": "code",
   "execution_count": 5,
   "id": "8966d749",
   "metadata": {},
   "outputs": [],
   "source": [
    "from sklearn.model_selection import train_test_split\n",
    "### Splitting training and test data\n",
    "X_train,X_test,y_train,y_test = train_test_split(X,\n",
    "                                                 y,\n",
    "                                                 test_size=0.2)"
   ]
  },
  {
   "cell_type": "markdown",
   "id": "fd2ab4ff",
   "metadata": {},
   "source": [
    "### Fitting model using unscaled data"
   ]
  },
  {
   "cell_type": "code",
   "execution_count": 6,
   "id": "5f33c2a7",
   "metadata": {},
   "outputs": [
    {
     "data": {
      "text/plain": [
       "KNeighborsClassifier()"
      ]
     },
     "execution_count": 6,
     "metadata": {},
     "output_type": "execute_result"
    }
   ],
   "source": [
    "from sklearn.neighbors import KNeighborsClassifier\n",
    "\n",
    "np.random.seed(2)\n",
    "\n",
    "classifier_unscaled = KNeighborsClassifier(n_neighbors = 5)\n",
    "classifier_unscaled.fit(X_train,y_train)"
   ]
  },
  {
   "cell_type": "code",
   "execution_count": 7,
   "id": "cbd76533",
   "metadata": {},
   "outputs": [
    {
     "name": "stderr",
     "output_type": "stream",
     "text": [
      "C:\\Users\\HP\\anaconda3\\lib\\site-packages\\sklearn\\neighbors\\_classification.py:228: FutureWarning: Unlike other reduction functions (e.g. `skew`, `kurtosis`), the default behavior of `mode` typically preserves the axis it acts along. In SciPy 1.11.0, this behavior will change: the default value of `keepdims` will become False, the `axis` over which the statistic is taken will be eliminated, and the value None will no longer be accepted. Set `keepdims` to True or False to avoid this warning.\n",
      "  mode, _ = stats.mode(_y[neigh_ind, k], axis=1)\n"
     ]
    },
    {
     "data": {
      "text/plain": [
       "0.557159578618806"
      ]
     },
     "execution_count": 7,
     "metadata": {},
     "output_type": "execute_result"
    }
   ],
   "source": [
    "classifier_unscaled.score(X_test,y_test)"
   ]
  },
  {
   "cell_type": "markdown",
   "id": "faa77f65",
   "metadata": {},
   "source": [
    "### Feature Scaling"
   ]
  },
  {
   "cell_type": "code",
   "execution_count": 8,
   "id": "ac98e379",
   "metadata": {},
   "outputs": [
    {
     "data": {
      "text/html": [
       "<div>\n",
       "<style scoped>\n",
       "    .dataframe tbody tr th:only-of-type {\n",
       "        vertical-align: middle;\n",
       "    }\n",
       "\n",
       "    .dataframe tbody tr th {\n",
       "        vertical-align: top;\n",
       "    }\n",
       "\n",
       "    .dataframe thead th {\n",
       "        text-align: right;\n",
       "    }\n",
       "</style>\n",
       "<table border=\"1\" class=\"dataframe\">\n",
       "  <thead>\n",
       "    <tr style=\"text-align: right;\">\n",
       "      <th></th>\n",
       "      <th>SubjectID</th>\n",
       "      <th>VideoID</th>\n",
       "      <th>Attention</th>\n",
       "      <th>Mediation</th>\n",
       "      <th>Raw</th>\n",
       "      <th>Delta</th>\n",
       "      <th>Theta</th>\n",
       "      <th>Alpha1</th>\n",
       "      <th>Alpha2</th>\n",
       "      <th>Beta1</th>\n",
       "      <th>Beta2</th>\n",
       "      <th>Gamma1</th>\n",
       "      <th>Gamma2</th>\n",
       "      <th>user-definedlabeln</th>\n",
       "    </tr>\n",
       "  </thead>\n",
       "  <tbody>\n",
       "    <tr>\n",
       "      <th>269</th>\n",
       "      <td>0.0</td>\n",
       "      <td>1.0</td>\n",
       "      <td>38.0</td>\n",
       "      <td>60.0</td>\n",
       "      <td>-94.0</td>\n",
       "      <td>360184.0</td>\n",
       "      <td>224520.0</td>\n",
       "      <td>47677.0</td>\n",
       "      <td>81076.0</td>\n",
       "      <td>21971.0</td>\n",
       "      <td>52827.0</td>\n",
       "      <td>29442.0</td>\n",
       "      <td>41282.0</td>\n",
       "      <td>1.0</td>\n",
       "    </tr>\n",
       "    <tr>\n",
       "      <th>10834</th>\n",
       "      <td>8.0</td>\n",
       "      <td>4.0</td>\n",
       "      <td>41.0</td>\n",
       "      <td>51.0</td>\n",
       "      <td>132.0</td>\n",
       "      <td>39310.0</td>\n",
       "      <td>173954.0</td>\n",
       "      <td>21064.0</td>\n",
       "      <td>15059.0</td>\n",
       "      <td>5171.0</td>\n",
       "      <td>5323.0</td>\n",
       "      <td>5052.0</td>\n",
       "      <td>4793.0</td>\n",
       "      <td>1.0</td>\n",
       "    </tr>\n",
       "    <tr>\n",
       "      <th>4170</th>\n",
       "      <td>3.0</td>\n",
       "      <td>2.0</td>\n",
       "      <td>61.0</td>\n",
       "      <td>66.0</td>\n",
       "      <td>55.0</td>\n",
       "      <td>2065439.0</td>\n",
       "      <td>41729.0</td>\n",
       "      <td>10341.0</td>\n",
       "      <td>36962.0</td>\n",
       "      <td>12215.0</td>\n",
       "      <td>13742.0</td>\n",
       "      <td>7066.0</td>\n",
       "      <td>3188.0</td>\n",
       "      <td>0.0</td>\n",
       "    </tr>\n",
       "    <tr>\n",
       "      <th>8212</th>\n",
       "      <td>6.0</td>\n",
       "      <td>3.0</td>\n",
       "      <td>0.0</td>\n",
       "      <td>0.0</td>\n",
       "      <td>1352.0</td>\n",
       "      <td>552761.0</td>\n",
       "      <td>192095.0</td>\n",
       "      <td>231738.0</td>\n",
       "      <td>140236.0</td>\n",
       "      <td>60193.0</td>\n",
       "      <td>144896.0</td>\n",
       "      <td>124420.0</td>\n",
       "      <td>60702.0</td>\n",
       "      <td>1.0</td>\n",
       "    </tr>\n",
       "    <tr>\n",
       "      <th>6412</th>\n",
       "      <td>4.0</td>\n",
       "      <td>9.0</td>\n",
       "      <td>27.0</td>\n",
       "      <td>51.0</td>\n",
       "      <td>34.0</td>\n",
       "      <td>15648.0</td>\n",
       "      <td>19387.0</td>\n",
       "      <td>1314.0</td>\n",
       "      <td>10042.0</td>\n",
       "      <td>1965.0</td>\n",
       "      <td>7423.0</td>\n",
       "      <td>2424.0</td>\n",
       "      <td>3275.0</td>\n",
       "      <td>0.0</td>\n",
       "    </tr>\n",
       "  </tbody>\n",
       "</table>\n",
       "</div>"
      ],
      "text/plain": [
       "       SubjectID  VideoID  Attention  Mediation     Raw      Delta     Theta  \\\n",
       "269          0.0      1.0       38.0       60.0   -94.0   360184.0  224520.0   \n",
       "10834        8.0      4.0       41.0       51.0   132.0    39310.0  173954.0   \n",
       "4170         3.0      2.0       61.0       66.0    55.0  2065439.0   41729.0   \n",
       "8212         6.0      3.0        0.0        0.0  1352.0   552761.0  192095.0   \n",
       "6412         4.0      9.0       27.0       51.0    34.0    15648.0   19387.0   \n",
       "\n",
       "         Alpha1    Alpha2    Beta1     Beta2    Gamma1   Gamma2  \\\n",
       "269     47677.0   81076.0  21971.0   52827.0   29442.0  41282.0   \n",
       "10834   21064.0   15059.0   5171.0    5323.0    5052.0   4793.0   \n",
       "4170    10341.0   36962.0  12215.0   13742.0    7066.0   3188.0   \n",
       "8212   231738.0  140236.0  60193.0  144896.0  124420.0  60702.0   \n",
       "6412     1314.0   10042.0   1965.0    7423.0    2424.0   3275.0   \n",
       "\n",
       "       user-definedlabeln  \n",
       "269                   1.0  \n",
       "10834                 1.0  \n",
       "4170                  0.0  \n",
       "8212                  1.0  \n",
       "6412                  0.0  "
      ]
     },
     "execution_count": 8,
     "metadata": {},
     "output_type": "execute_result"
    }
   ],
   "source": [
    "data = df.drop(columns=[\"Age\",\"Ethnicity_Bengali\",\"Ethnicity_English\",\"Ethnicity_Han Chinese\",\"Gender_F\",\"Gender_M\",\"predefinedlabel\"],axis=1)\n",
    "data.head()"
   ]
  },
  {
   "cell_type": "code",
   "execution_count": 10,
   "id": "4a496f8b",
   "metadata": {},
   "outputs": [],
   "source": [
    "from sklearn.preprocessing import StandardScaler\n",
    "scaler = StandardScaler()\n",
    "scaler.fit(data.drop('user-definedlabeln',axis=1))\n",
    "scaled_features = scaler.transform(data.drop('user-definedlabeln',axis=1))\n",
    "data_scaled = pd.DataFrame(scaled_features,columns=data.columns[:-1])\n",
    "\n",
    "X_scaled = data_scaled.loc[:,:'Gamma2']\n",
    "\n",
    "\n",
    "X_train_scaled, X_test_scaled, y_train, y_test = train_test_split(X_scaled, y, test_size=0.2, random_state=14)"
   ]
  },
  {
   "cell_type": "code",
   "execution_count": 11,
   "id": "188b4b66",
   "metadata": {},
   "outputs": [
    {
     "data": {
      "text/html": [
       "<div>\n",
       "<style scoped>\n",
       "    .dataframe tbody tr th:only-of-type {\n",
       "        vertical-align: middle;\n",
       "    }\n",
       "\n",
       "    .dataframe tbody tr th {\n",
       "        vertical-align: top;\n",
       "    }\n",
       "\n",
       "    .dataframe thead th {\n",
       "        text-align: right;\n",
       "    }\n",
       "</style>\n",
       "<table border=\"1\" class=\"dataframe\">\n",
       "  <thead>\n",
       "    <tr style=\"text-align: right;\">\n",
       "      <th></th>\n",
       "      <th>SubjectID</th>\n",
       "      <th>VideoID</th>\n",
       "      <th>Attention</th>\n",
       "      <th>Mediation</th>\n",
       "      <th>Raw</th>\n",
       "      <th>Delta</th>\n",
       "      <th>Theta</th>\n",
       "      <th>Alpha1</th>\n",
       "      <th>Alpha2</th>\n",
       "      <th>Beta1</th>\n",
       "      <th>Beta2</th>\n",
       "      <th>Gamma1</th>\n",
       "      <th>Gamma2</th>\n",
       "    </tr>\n",
       "  </thead>\n",
       "  <tbody>\n",
       "    <tr>\n",
       "      <th>0</th>\n",
       "      <td>-1.566138</td>\n",
       "      <td>-1.163908</td>\n",
       "      <td>-0.143135</td>\n",
       "      <td>0.565760</td>\n",
       "      <td>-0.266886</td>\n",
       "      <td>-0.385197</td>\n",
       "      <td>0.231305</td>\n",
       "      <td>0.086881</td>\n",
       "      <td>0.821319</td>\n",
       "      <td>-0.061164</td>\n",
       "      <td>0.185709</td>\n",
       "      <td>-0.001886</td>\n",
       "      <td>0.745578</td>\n",
       "    </tr>\n",
       "    <tr>\n",
       "      <th>1</th>\n",
       "      <td>1.225929</td>\n",
       "      <td>-0.134084</td>\n",
       "      <td>-0.013557</td>\n",
       "      <td>0.168498</td>\n",
       "      <td>0.111105</td>\n",
       "      <td>-0.888451</td>\n",
       "      <td>0.024174</td>\n",
       "      <td>-0.280559</td>\n",
       "      <td>-0.310818</td>\n",
       "      <td>-0.498913</td>\n",
       "      <td>-0.415129</td>\n",
       "      <td>-0.307436</td>\n",
       "      <td>-0.267054</td>\n",
       "    </tr>\n",
       "    <tr>\n",
       "      <th>2</th>\n",
       "      <td>-0.519113</td>\n",
       "      <td>-0.820633</td>\n",
       "      <td>0.850297</td>\n",
       "      <td>0.830601</td>\n",
       "      <td>-0.017680</td>\n",
       "      <td>2.289299</td>\n",
       "      <td>-0.517455</td>\n",
       "      <td>-0.428610</td>\n",
       "      <td>0.064800</td>\n",
       "      <td>-0.315371</td>\n",
       "      <td>-0.308644</td>\n",
       "      <td>-0.282205</td>\n",
       "      <td>-0.311595</td>\n",
       "    </tr>\n",
       "    <tr>\n",
       "      <th>3</th>\n",
       "      <td>0.527912</td>\n",
       "      <td>-0.477359</td>\n",
       "      <td>-1.784458</td>\n",
       "      <td>-2.082651</td>\n",
       "      <td>2.151588</td>\n",
       "      <td>-0.083162</td>\n",
       "      <td>0.098484</td>\n",
       "      <td>2.628178</td>\n",
       "      <td>1.835864</td>\n",
       "      <td>0.934766</td>\n",
       "      <td>1.350211</td>\n",
       "      <td>1.187968</td>\n",
       "      <td>1.284516</td>\n",
       "    </tr>\n",
       "    <tr>\n",
       "      <th>4</th>\n",
       "      <td>-0.170104</td>\n",
       "      <td>1.582290</td>\n",
       "      <td>-0.618255</td>\n",
       "      <td>0.168498</td>\n",
       "      <td>-0.052803</td>\n",
       "      <td>-0.925562</td>\n",
       "      <td>-0.608973</td>\n",
       "      <td>-0.553244</td>\n",
       "      <td>-0.396856</td>\n",
       "      <td>-0.582450</td>\n",
       "      <td>-0.388568</td>\n",
       "      <td>-0.340359</td>\n",
       "      <td>-0.309181</td>\n",
       "    </tr>\n",
       "    <tr>\n",
       "      <th>...</th>\n",
       "      <td>...</td>\n",
       "      <td>...</td>\n",
       "      <td>...</td>\n",
       "      <td>...</td>\n",
       "      <td>...</td>\n",
       "      <td>...</td>\n",
       "      <td>...</td>\n",
       "      <td>...</td>\n",
       "      <td>...</td>\n",
       "      <td>...</td>\n",
       "      <td>...</td>\n",
       "      <td>...</td>\n",
       "      <td>...</td>\n",
       "    </tr>\n",
       "    <tr>\n",
       "      <th>12806</th>\n",
       "      <td>-0.868121</td>\n",
       "      <td>0.895741</td>\n",
       "      <td>0.375178</td>\n",
       "      <td>0.389199</td>\n",
       "      <td>-0.047785</td>\n",
       "      <td>-0.937518</td>\n",
       "      <td>-0.681805</td>\n",
       "      <td>-0.526362</td>\n",
       "      <td>-0.440603</td>\n",
       "      <td>-0.449379</td>\n",
       "      <td>-0.330108</td>\n",
       "      <td>-0.334446</td>\n",
       "      <td>-0.230533</td>\n",
       "    </tr>\n",
       "    <tr>\n",
       "      <th>12807</th>\n",
       "      <td>-0.868121</td>\n",
       "      <td>0.209191</td>\n",
       "      <td>1.066261</td>\n",
       "      <td>1.625124</td>\n",
       "      <td>-0.021025</td>\n",
       "      <td>-0.946102</td>\n",
       "      <td>-0.602513</td>\n",
       "      <td>-0.543179</td>\n",
       "      <td>-0.334570</td>\n",
       "      <td>-0.515928</td>\n",
       "      <td>-0.408489</td>\n",
       "      <td>-0.317609</td>\n",
       "      <td>-0.215019</td>\n",
       "    </tr>\n",
       "    <tr>\n",
       "      <th>12808</th>\n",
       "      <td>-0.519113</td>\n",
       "      <td>-0.477359</td>\n",
       "      <td>-1.784458</td>\n",
       "      <td>-2.082651</td>\n",
       "      <td>-0.021025</td>\n",
       "      <td>-0.484100</td>\n",
       "      <td>-0.565364</td>\n",
       "      <td>-0.525741</td>\n",
       "      <td>-0.461834</td>\n",
       "      <td>-0.486718</td>\n",
       "      <td>-0.088061</td>\n",
       "      <td>-0.316456</td>\n",
       "      <td>-0.388384</td>\n",
       "    </tr>\n",
       "    <tr>\n",
       "      <th>12809</th>\n",
       "      <td>-1.217130</td>\n",
       "      <td>0.209191</td>\n",
       "      <td>0.288792</td>\n",
       "      <td>0.124358</td>\n",
       "      <td>-0.041095</td>\n",
       "      <td>-0.922505</td>\n",
       "      <td>-0.623064</td>\n",
       "      <td>-0.540500</td>\n",
       "      <td>-0.530002</td>\n",
       "      <td>-0.332386</td>\n",
       "      <td>-0.389694</td>\n",
       "      <td>-0.323923</td>\n",
       "      <td>-0.319921</td>\n",
       "    </tr>\n",
       "    <tr>\n",
       "      <th>12810</th>\n",
       "      <td>1.574937</td>\n",
       "      <td>-0.820633</td>\n",
       "      <td>1.239032</td>\n",
       "      <td>-0.758446</td>\n",
       "      <td>0.330206</td>\n",
       "      <td>1.994158</td>\n",
       "      <td>0.549298</td>\n",
       "      <td>0.047767</td>\n",
       "      <td>1.507029</td>\n",
       "      <td>0.207608</td>\n",
       "      <td>1.588616</td>\n",
       "      <td>0.374884</td>\n",
       "      <td>-0.274408</td>\n",
       "    </tr>\n",
       "  </tbody>\n",
       "</table>\n",
       "<p>12811 rows × 13 columns</p>\n",
       "</div>"
      ],
      "text/plain": [
       "       SubjectID   VideoID  Attention  Mediation       Raw     Delta  \\\n",
       "0      -1.566138 -1.163908  -0.143135   0.565760 -0.266886 -0.385197   \n",
       "1       1.225929 -0.134084  -0.013557   0.168498  0.111105 -0.888451   \n",
       "2      -0.519113 -0.820633   0.850297   0.830601 -0.017680  2.289299   \n",
       "3       0.527912 -0.477359  -1.784458  -2.082651  2.151588 -0.083162   \n",
       "4      -0.170104  1.582290  -0.618255   0.168498 -0.052803 -0.925562   \n",
       "...          ...       ...        ...        ...       ...       ...   \n",
       "12806  -0.868121  0.895741   0.375178   0.389199 -0.047785 -0.937518   \n",
       "12807  -0.868121  0.209191   1.066261   1.625124 -0.021025 -0.946102   \n",
       "12808  -0.519113 -0.477359  -1.784458  -2.082651 -0.021025 -0.484100   \n",
       "12809  -1.217130  0.209191   0.288792   0.124358 -0.041095 -0.922505   \n",
       "12810   1.574937 -0.820633   1.239032  -0.758446  0.330206  1.994158   \n",
       "\n",
       "          Theta    Alpha1    Alpha2     Beta1     Beta2    Gamma1    Gamma2  \n",
       "0      0.231305  0.086881  0.821319 -0.061164  0.185709 -0.001886  0.745578  \n",
       "1      0.024174 -0.280559 -0.310818 -0.498913 -0.415129 -0.307436 -0.267054  \n",
       "2     -0.517455 -0.428610  0.064800 -0.315371 -0.308644 -0.282205 -0.311595  \n",
       "3      0.098484  2.628178  1.835864  0.934766  1.350211  1.187968  1.284516  \n",
       "4     -0.608973 -0.553244 -0.396856 -0.582450 -0.388568 -0.340359 -0.309181  \n",
       "...         ...       ...       ...       ...       ...       ...       ...  \n",
       "12806 -0.681805 -0.526362 -0.440603 -0.449379 -0.330108 -0.334446 -0.230533  \n",
       "12807 -0.602513 -0.543179 -0.334570 -0.515928 -0.408489 -0.317609 -0.215019  \n",
       "12808 -0.565364 -0.525741 -0.461834 -0.486718 -0.088061 -0.316456 -0.388384  \n",
       "12809 -0.623064 -0.540500 -0.530002 -0.332386 -0.389694 -0.323923 -0.319921  \n",
       "12810  0.549298  0.047767  1.507029  0.207608  1.588616  0.374884 -0.274408  \n",
       "\n",
       "[12811 rows x 13 columns]"
      ]
     },
     "execution_count": 11,
     "metadata": {},
     "output_type": "execute_result"
    }
   ],
   "source": [
    "data_scaled"
   ]
  },
  {
   "cell_type": "markdown",
   "id": "34fc3da1",
   "metadata": {},
   "source": [
    "### Fitting model using scaled data"
   ]
  },
  {
   "cell_type": "code",
   "execution_count": 12,
   "id": "689b5da6",
   "metadata": {},
   "outputs": [
    {
     "data": {
      "text/plain": [
       "KNeighborsClassifier()"
      ]
     },
     "execution_count": 12,
     "metadata": {},
     "output_type": "execute_result"
    }
   ],
   "source": [
    "from sklearn.neighbors import KNeighborsClassifier\n",
    "\n",
    "np.random.seed(2)\n",
    "\n",
    "classifier = KNeighborsClassifier(n_neighbors=5)\n",
    "\n",
    "classifier.fit(X_train_scaled,y_train)"
   ]
  },
  {
   "cell_type": "markdown",
   "id": "6d15ffff",
   "metadata": {},
   "source": [
    "### Testing using scaled data"
   ]
  },
  {
   "cell_type": "code",
   "execution_count": 13,
   "id": "a55c583f",
   "metadata": {},
   "outputs": [
    {
     "name": "stderr",
     "output_type": "stream",
     "text": [
      "C:\\Users\\HP\\anaconda3\\lib\\site-packages\\sklearn\\neighbors\\_classification.py:228: FutureWarning: Unlike other reduction functions (e.g. `skew`, `kurtosis`), the default behavior of `mode` typically preserves the axis it acts along. In SciPy 1.11.0, this behavior will change: the default value of `keepdims` will become False, the `axis` over which the statistic is taken will be eliminated, and the value None will no longer be accepted. Set `keepdims` to True or False to avoid this warning.\n",
      "  mode, _ = stats.mode(_y[neigh_ind, k], axis=1)\n"
     ]
    },
    {
     "data": {
      "text/plain": [
       "0.82"
      ]
     },
     "execution_count": 13,
     "metadata": {},
     "output_type": "execute_result"
    }
   ],
   "source": [
    "knn_score  = round(classifier.score(X_test_scaled,y_test),2)\n",
    "knn_score"
   ]
  },
  {
   "cell_type": "markdown",
   "id": "9e21bbad",
   "metadata": {},
   "source": [
    "### Cross validation "
   ]
  },
  {
   "cell_type": "code",
   "execution_count": 14,
   "id": "d3a6d0ce",
   "metadata": {},
   "outputs": [
    {
     "name": "stderr",
     "output_type": "stream",
     "text": [
      "C:\\Users\\HP\\anaconda3\\lib\\site-packages\\sklearn\\neighbors\\_classification.py:228: FutureWarning: Unlike other reduction functions (e.g. `skew`, `kurtosis`), the default behavior of `mode` typically preserves the axis it acts along. In SciPy 1.11.0, this behavior will change: the default value of `keepdims` will become False, the `axis` over which the statistic is taken will be eliminated, and the value None will no longer be accepted. Set `keepdims` to True or False to avoid this warning.\n",
      "  mode, _ = stats.mode(_y[neigh_ind, k], axis=1)\n",
      "C:\\Users\\HP\\anaconda3\\lib\\site-packages\\sklearn\\neighbors\\_classification.py:228: FutureWarning: Unlike other reduction functions (e.g. `skew`, `kurtosis`), the default behavior of `mode` typically preserves the axis it acts along. In SciPy 1.11.0, this behavior will change: the default value of `keepdims` will become False, the `axis` over which the statistic is taken will be eliminated, and the value None will no longer be accepted. Set `keepdims` to True or False to avoid this warning.\n",
      "  mode, _ = stats.mode(_y[neigh_ind, k], axis=1)\n",
      "C:\\Users\\HP\\anaconda3\\lib\\site-packages\\sklearn\\neighbors\\_classification.py:228: FutureWarning: Unlike other reduction functions (e.g. `skew`, `kurtosis`), the default behavior of `mode` typically preserves the axis it acts along. In SciPy 1.11.0, this behavior will change: the default value of `keepdims` will become False, the `axis` over which the statistic is taken will be eliminated, and the value None will no longer be accepted. Set `keepdims` to True or False to avoid this warning.\n",
      "  mode, _ = stats.mode(_y[neigh_ind, k], axis=1)\n",
      "C:\\Users\\HP\\anaconda3\\lib\\site-packages\\sklearn\\neighbors\\_classification.py:228: FutureWarning: Unlike other reduction functions (e.g. `skew`, `kurtosis`), the default behavior of `mode` typically preserves the axis it acts along. In SciPy 1.11.0, this behavior will change: the default value of `keepdims` will become False, the `axis` over which the statistic is taken will be eliminated, and the value None will no longer be accepted. Set `keepdims` to True or False to avoid this warning.\n",
      "  mode, _ = stats.mode(_y[neigh_ind, k], axis=1)\n",
      "C:\\Users\\HP\\anaconda3\\lib\\site-packages\\sklearn\\neighbors\\_classification.py:228: FutureWarning: Unlike other reduction functions (e.g. `skew`, `kurtosis`), the default behavior of `mode` typically preserves the axis it acts along. In SciPy 1.11.0, this behavior will change: the default value of `keepdims` will become False, the `axis` over which the statistic is taken will be eliminated, and the value None will no longer be accepted. Set `keepdims` to True or False to avoid this warning.\n",
      "  mode, _ = stats.mode(_y[neigh_ind, k], axis=1)\n"
     ]
    },
    {
     "data": {
      "text/plain": [
       "array([0.81779165, 0.82513661, 0.81537861, 0.81459797, 0.81576893])"
      ]
     },
     "execution_count": 14,
     "metadata": {},
     "output_type": "execute_result"
    }
   ],
   "source": [
    "from sklearn.model_selection import cross_val_score\n",
    "\n",
    "cross_validated_score = cross_val_score(classifier,X_scaled,y,cv=5,scoring=None)\n",
    "cross_validated_score"
   ]
  },
  {
   "cell_type": "code",
   "execution_count": 15,
   "id": "d50f106d",
   "metadata": {},
   "outputs": [
    {
     "name": "stderr",
     "output_type": "stream",
     "text": [
      "C:\\Users\\HP\\anaconda3\\lib\\site-packages\\sklearn\\neighbors\\_classification.py:228: FutureWarning: Unlike other reduction functions (e.g. `skew`, `kurtosis`), the default behavior of `mode` typically preserves the axis it acts along. In SciPy 1.11.0, this behavior will change: the default value of `keepdims` will become False, the `axis` over which the statistic is taken will be eliminated, and the value None will no longer be accepted. Set `keepdims` to True or False to avoid this warning.\n",
      "  mode, _ = stats.mode(_y[neigh_ind, k], axis=1)\n"
     ]
    },
    {
     "data": {
      "text/plain": [
       "array([1., 0., 0., ..., 1., 1., 1.])"
      ]
     },
     "execution_count": 15,
     "metadata": {},
     "output_type": "execute_result"
    }
   ],
   "source": [
    "y_preds = classifier.predict(X_test_scaled)\n",
    "y_preds"
   ]
  },
  {
   "cell_type": "markdown",
   "id": "bcb84ae4",
   "metadata": {},
   "source": [
    "### Hyper parameter tuning using GridSearchCV"
   ]
  },
  {
   "cell_type": "code",
   "execution_count": 20,
   "id": "7c440d34",
   "metadata": {},
   "outputs": [
    {
     "name": "stdout",
     "output_type": "stream",
     "text": [
      "Fitting 5 folds for each of 12 candidates, totalling 60 fits\n"
     ]
    },
    {
     "name": "stderr",
     "output_type": "stream",
     "text": [
      "C:\\Users\\HP\\anaconda3\\lib\\site-packages\\sklearn\\neighbors\\_classification.py:228: FutureWarning: Unlike other reduction functions (e.g. `skew`, `kurtosis`), the default behavior of `mode` typically preserves the axis it acts along. In SciPy 1.11.0, this behavior will change: the default value of `keepdims` will become False, the `axis` over which the statistic is taken will be eliminated, and the value None will no longer be accepted. Set `keepdims` to True or False to avoid this warning.\n",
      "  mode, _ = stats.mode(_y[neigh_ind, k], axis=1)\n"
     ]
    },
    {
     "name": "stdout",
     "output_type": "stream",
     "text": [
      "[CV 1/5] END n_neighbors=3, p=1, weights=uniform;, score=0.861 total time=   0.3s\n"
     ]
    },
    {
     "name": "stderr",
     "output_type": "stream",
     "text": [
      "C:\\Users\\HP\\anaconda3\\lib\\site-packages\\sklearn\\neighbors\\_classification.py:228: FutureWarning: Unlike other reduction functions (e.g. `skew`, `kurtosis`), the default behavior of `mode` typically preserves the axis it acts along. In SciPy 1.11.0, this behavior will change: the default value of `keepdims` will become False, the `axis` over which the statistic is taken will be eliminated, and the value None will no longer be accepted. Set `keepdims` to True or False to avoid this warning.\n",
      "  mode, _ = stats.mode(_y[neigh_ind, k], axis=1)\n"
     ]
    },
    {
     "name": "stdout",
     "output_type": "stream",
     "text": [
      "[CV 2/5] END n_neighbors=3, p=1, weights=uniform;, score=0.867 total time=   0.5s\n"
     ]
    },
    {
     "name": "stderr",
     "output_type": "stream",
     "text": [
      "C:\\Users\\HP\\anaconda3\\lib\\site-packages\\sklearn\\neighbors\\_classification.py:228: FutureWarning: Unlike other reduction functions (e.g. `skew`, `kurtosis`), the default behavior of `mode` typically preserves the axis it acts along. In SciPy 1.11.0, this behavior will change: the default value of `keepdims` will become False, the `axis` over which the statistic is taken will be eliminated, and the value None will no longer be accepted. Set `keepdims` to True or False to avoid this warning.\n",
      "  mode, _ = stats.mode(_y[neigh_ind, k], axis=1)\n"
     ]
    },
    {
     "name": "stdout",
     "output_type": "stream",
     "text": [
      "[CV 3/5] END n_neighbors=3, p=1, weights=uniform;, score=0.876 total time=   0.5s\n"
     ]
    },
    {
     "name": "stderr",
     "output_type": "stream",
     "text": [
      "C:\\Users\\HP\\anaconda3\\lib\\site-packages\\sklearn\\neighbors\\_classification.py:228: FutureWarning: Unlike other reduction functions (e.g. `skew`, `kurtosis`), the default behavior of `mode` typically preserves the axis it acts along. In SciPy 1.11.0, this behavior will change: the default value of `keepdims` will become False, the `axis` over which the statistic is taken will be eliminated, and the value None will no longer be accepted. Set `keepdims` to True or False to avoid this warning.\n",
      "  mode, _ = stats.mode(_y[neigh_ind, k], axis=1)\n"
     ]
    },
    {
     "name": "stdout",
     "output_type": "stream",
     "text": [
      "[CV 4/5] END n_neighbors=3, p=1, weights=uniform;, score=0.870 total time=   0.5s\n"
     ]
    },
    {
     "name": "stderr",
     "output_type": "stream",
     "text": [
      "C:\\Users\\HP\\anaconda3\\lib\\site-packages\\sklearn\\neighbors\\_classification.py:228: FutureWarning: Unlike other reduction functions (e.g. `skew`, `kurtosis`), the default behavior of `mode` typically preserves the axis it acts along. In SciPy 1.11.0, this behavior will change: the default value of `keepdims` will become False, the `axis` over which the statistic is taken will be eliminated, and the value None will no longer be accepted. Set `keepdims` to True or False to avoid this warning.\n",
      "  mode, _ = stats.mode(_y[neigh_ind, k], axis=1)\n"
     ]
    },
    {
     "name": "stdout",
     "output_type": "stream",
     "text": [
      "[CV 5/5] END n_neighbors=3, p=1, weights=uniform;, score=0.867 total time=   0.6s\n",
      "[CV 1/5] END n_neighbors=3, p=1, weights=distance;, score=0.862 total time=   0.6s\n",
      "[CV 2/5] END n_neighbors=3, p=1, weights=distance;, score=0.868 total time=   0.5s\n",
      "[CV 3/5] END n_neighbors=3, p=1, weights=distance;, score=0.876 total time=   0.4s\n",
      "[CV 4/5] END n_neighbors=3, p=1, weights=distance;, score=0.871 total time=   0.4s\n",
      "[CV 5/5] END n_neighbors=3, p=1, weights=distance;, score=0.868 total time=   0.4s\n"
     ]
    },
    {
     "name": "stderr",
     "output_type": "stream",
     "text": [
      "C:\\Users\\HP\\anaconda3\\lib\\site-packages\\sklearn\\neighbors\\_classification.py:228: FutureWarning: Unlike other reduction functions (e.g. `skew`, `kurtosis`), the default behavior of `mode` typically preserves the axis it acts along. In SciPy 1.11.0, this behavior will change: the default value of `keepdims` will become False, the `axis` over which the statistic is taken will be eliminated, and the value None will no longer be accepted. Set `keepdims` to True or False to avoid this warning.\n",
      "  mode, _ = stats.mode(_y[neigh_ind, k], axis=1)\n"
     ]
    },
    {
     "name": "stdout",
     "output_type": "stream",
     "text": [
      "[CV 1/5] END n_neighbors=3, p=2, weights=uniform;, score=0.797 total time=   0.4s\n"
     ]
    },
    {
     "name": "stderr",
     "output_type": "stream",
     "text": [
      "C:\\Users\\HP\\anaconda3\\lib\\site-packages\\sklearn\\neighbors\\_classification.py:228: FutureWarning: Unlike other reduction functions (e.g. `skew`, `kurtosis`), the default behavior of `mode` typically preserves the axis it acts along. In SciPy 1.11.0, this behavior will change: the default value of `keepdims` will become False, the `axis` over which the statistic is taken will be eliminated, and the value None will no longer be accepted. Set `keepdims` to True or False to avoid this warning.\n",
      "  mode, _ = stats.mode(_y[neigh_ind, k], axis=1)\n"
     ]
    },
    {
     "name": "stdout",
     "output_type": "stream",
     "text": [
      "[CV 2/5] END n_neighbors=3, p=2, weights=uniform;, score=0.813 total time=   0.3s\n"
     ]
    },
    {
     "name": "stderr",
     "output_type": "stream",
     "text": [
      "C:\\Users\\HP\\anaconda3\\lib\\site-packages\\sklearn\\neighbors\\_classification.py:228: FutureWarning: Unlike other reduction functions (e.g. `skew`, `kurtosis`), the default behavior of `mode` typically preserves the axis it acts along. In SciPy 1.11.0, this behavior will change: the default value of `keepdims` will become False, the `axis` over which the statistic is taken will be eliminated, and the value None will no longer be accepted. Set `keepdims` to True or False to avoid this warning.\n",
      "  mode, _ = stats.mode(_y[neigh_ind, k], axis=1)\n"
     ]
    },
    {
     "name": "stdout",
     "output_type": "stream",
     "text": [
      "[CV 3/5] END n_neighbors=3, p=2, weights=uniform;, score=0.810 total time=   0.5s\n"
     ]
    },
    {
     "name": "stderr",
     "output_type": "stream",
     "text": [
      "C:\\Users\\HP\\anaconda3\\lib\\site-packages\\sklearn\\neighbors\\_classification.py:228: FutureWarning: Unlike other reduction functions (e.g. `skew`, `kurtosis`), the default behavior of `mode` typically preserves the axis it acts along. In SciPy 1.11.0, this behavior will change: the default value of `keepdims` will become False, the `axis` over which the statistic is taken will be eliminated, and the value None will no longer be accepted. Set `keepdims` to True or False to avoid this warning.\n",
      "  mode, _ = stats.mode(_y[neigh_ind, k], axis=1)\n"
     ]
    },
    {
     "name": "stdout",
     "output_type": "stream",
     "text": [
      "[CV 4/5] END n_neighbors=3, p=2, weights=uniform;, score=0.803 total time=   0.3s\n"
     ]
    },
    {
     "name": "stderr",
     "output_type": "stream",
     "text": [
      "C:\\Users\\HP\\anaconda3\\lib\\site-packages\\sklearn\\neighbors\\_classification.py:228: FutureWarning: Unlike other reduction functions (e.g. `skew`, `kurtosis`), the default behavior of `mode` typically preserves the axis it acts along. In SciPy 1.11.0, this behavior will change: the default value of `keepdims` will become False, the `axis` over which the statistic is taken will be eliminated, and the value None will no longer be accepted. Set `keepdims` to True or False to avoid this warning.\n",
      "  mode, _ = stats.mode(_y[neigh_ind, k], axis=1)\n"
     ]
    },
    {
     "name": "stdout",
     "output_type": "stream",
     "text": [
      "[CV 5/5] END n_neighbors=3, p=2, weights=uniform;, score=0.795 total time=   0.4s\n",
      "[CV 1/5] END n_neighbors=3, p=2, weights=distance;, score=0.797 total time=   0.3s\n",
      "[CV 2/5] END n_neighbors=3, p=2, weights=distance;, score=0.814 total time=   0.3s\n",
      "[CV 3/5] END n_neighbors=3, p=2, weights=distance;, score=0.813 total time=   0.3s\n",
      "[CV 4/5] END n_neighbors=3, p=2, weights=distance;, score=0.805 total time=   0.3s\n",
      "[CV 5/5] END n_neighbors=3, p=2, weights=distance;, score=0.796 total time=   0.2s\n"
     ]
    },
    {
     "name": "stderr",
     "output_type": "stream",
     "text": [
      "C:\\Users\\HP\\anaconda3\\lib\\site-packages\\sklearn\\neighbors\\_classification.py:228: FutureWarning: Unlike other reduction functions (e.g. `skew`, `kurtosis`), the default behavior of `mode` typically preserves the axis it acts along. In SciPy 1.11.0, this behavior will change: the default value of `keepdims` will become False, the `axis` over which the statistic is taken will be eliminated, and the value None will no longer be accepted. Set `keepdims` to True or False to avoid this warning.\n",
      "  mode, _ = stats.mode(_y[neigh_ind, k], axis=1)\n"
     ]
    },
    {
     "name": "stdout",
     "output_type": "stream",
     "text": [
      "[CV 1/5] END n_neighbors=5, p=1, weights=uniform;, score=0.857 total time=   0.4s\n"
     ]
    },
    {
     "name": "stderr",
     "output_type": "stream",
     "text": [
      "C:\\Users\\HP\\anaconda3\\lib\\site-packages\\sklearn\\neighbors\\_classification.py:228: FutureWarning: Unlike other reduction functions (e.g. `skew`, `kurtosis`), the default behavior of `mode` typically preserves the axis it acts along. In SciPy 1.11.0, this behavior will change: the default value of `keepdims` will become False, the `axis` over which the statistic is taken will be eliminated, and the value None will no longer be accepted. Set `keepdims` to True or False to avoid this warning.\n",
      "  mode, _ = stats.mode(_y[neigh_ind, k], axis=1)\n"
     ]
    },
    {
     "name": "stdout",
     "output_type": "stream",
     "text": [
      "[CV 2/5] END n_neighbors=5, p=1, weights=uniform;, score=0.871 total time=   0.4s\n"
     ]
    },
    {
     "name": "stderr",
     "output_type": "stream",
     "text": [
      "C:\\Users\\HP\\anaconda3\\lib\\site-packages\\sklearn\\neighbors\\_classification.py:228: FutureWarning: Unlike other reduction functions (e.g. `skew`, `kurtosis`), the default behavior of `mode` typically preserves the axis it acts along. In SciPy 1.11.0, this behavior will change: the default value of `keepdims` will become False, the `axis` over which the statistic is taken will be eliminated, and the value None will no longer be accepted. Set `keepdims` to True or False to avoid this warning.\n",
      "  mode, _ = stats.mode(_y[neigh_ind, k], axis=1)\n"
     ]
    },
    {
     "name": "stdout",
     "output_type": "stream",
     "text": [
      "[CV 3/5] END n_neighbors=5, p=1, weights=uniform;, score=0.884 total time=   0.4s\n"
     ]
    },
    {
     "name": "stderr",
     "output_type": "stream",
     "text": [
      "C:\\Users\\HP\\anaconda3\\lib\\site-packages\\sklearn\\neighbors\\_classification.py:228: FutureWarning: Unlike other reduction functions (e.g. `skew`, `kurtosis`), the default behavior of `mode` typically preserves the axis it acts along. In SciPy 1.11.0, this behavior will change: the default value of `keepdims` will become False, the `axis` over which the statistic is taken will be eliminated, and the value None will no longer be accepted. Set `keepdims` to True or False to avoid this warning.\n",
      "  mode, _ = stats.mode(_y[neigh_ind, k], axis=1)\n"
     ]
    },
    {
     "name": "stdout",
     "output_type": "stream",
     "text": [
      "[CV 4/5] END n_neighbors=5, p=1, weights=uniform;, score=0.874 total time=   0.4s\n"
     ]
    },
    {
     "name": "stderr",
     "output_type": "stream",
     "text": [
      "C:\\Users\\HP\\anaconda3\\lib\\site-packages\\sklearn\\neighbors\\_classification.py:228: FutureWarning: Unlike other reduction functions (e.g. `skew`, `kurtosis`), the default behavior of `mode` typically preserves the axis it acts along. In SciPy 1.11.0, this behavior will change: the default value of `keepdims` will become False, the `axis` over which the statistic is taken will be eliminated, and the value None will no longer be accepted. Set `keepdims` to True or False to avoid this warning.\n",
      "  mode, _ = stats.mode(_y[neigh_ind, k], axis=1)\n"
     ]
    },
    {
     "name": "stdout",
     "output_type": "stream",
     "text": [
      "[CV 5/5] END n_neighbors=5, p=1, weights=uniform;, score=0.870 total time=   0.4s\n",
      "[CV 1/5] END n_neighbors=5, p=1, weights=distance;, score=0.858 total time=   0.3s\n",
      "[CV 2/5] END n_neighbors=5, p=1, weights=distance;, score=0.873 total time=   0.3s\n",
      "[CV 3/5] END n_neighbors=5, p=1, weights=distance;, score=0.886 total time=   0.3s\n",
      "[CV 4/5] END n_neighbors=5, p=1, weights=distance;, score=0.877 total time=   0.4s\n",
      "[CV 5/5] END n_neighbors=5, p=1, weights=distance;, score=0.870 total time=   0.3s\n"
     ]
    },
    {
     "name": "stderr",
     "output_type": "stream",
     "text": [
      "C:\\Users\\HP\\anaconda3\\lib\\site-packages\\sklearn\\neighbors\\_classification.py:228: FutureWarning: Unlike other reduction functions (e.g. `skew`, `kurtosis`), the default behavior of `mode` typically preserves the axis it acts along. In SciPy 1.11.0, this behavior will change: the default value of `keepdims` will become False, the `axis` over which the statistic is taken will be eliminated, and the value None will no longer be accepted. Set `keepdims` to True or False to avoid this warning.\n",
      "  mode, _ = stats.mode(_y[neigh_ind, k], axis=1)\n"
     ]
    },
    {
     "name": "stdout",
     "output_type": "stream",
     "text": [
      "[CV 1/5] END n_neighbors=5, p=2, weights=uniform;, score=0.792 total time=   0.3s\n"
     ]
    },
    {
     "name": "stderr",
     "output_type": "stream",
     "text": [
      "C:\\Users\\HP\\anaconda3\\lib\\site-packages\\sklearn\\neighbors\\_classification.py:228: FutureWarning: Unlike other reduction functions (e.g. `skew`, `kurtosis`), the default behavior of `mode` typically preserves the axis it acts along. In SciPy 1.11.0, this behavior will change: the default value of `keepdims` will become False, the `axis` over which the statistic is taken will be eliminated, and the value None will no longer be accepted. Set `keepdims` to True or False to avoid this warning.\n",
      "  mode, _ = stats.mode(_y[neigh_ind, k], axis=1)\n"
     ]
    },
    {
     "name": "stdout",
     "output_type": "stream",
     "text": [
      "[CV 2/5] END n_neighbors=5, p=2, weights=uniform;, score=0.808 total time=   0.3s\n"
     ]
    },
    {
     "name": "stderr",
     "output_type": "stream",
     "text": [
      "C:\\Users\\HP\\anaconda3\\lib\\site-packages\\sklearn\\neighbors\\_classification.py:228: FutureWarning: Unlike other reduction functions (e.g. `skew`, `kurtosis`), the default behavior of `mode` typically preserves the axis it acts along. In SciPy 1.11.0, this behavior will change: the default value of `keepdims` will become False, the `axis` over which the statistic is taken will be eliminated, and the value None will no longer be accepted. Set `keepdims` to True or False to avoid this warning.\n",
      "  mode, _ = stats.mode(_y[neigh_ind, k], axis=1)\n"
     ]
    },
    {
     "name": "stdout",
     "output_type": "stream",
     "text": [
      "[CV 3/5] END n_neighbors=5, p=2, weights=uniform;, score=0.814 total time=   0.3s\n"
     ]
    },
    {
     "name": "stderr",
     "output_type": "stream",
     "text": [
      "C:\\Users\\HP\\anaconda3\\lib\\site-packages\\sklearn\\neighbors\\_classification.py:228: FutureWarning: Unlike other reduction functions (e.g. `skew`, `kurtosis`), the default behavior of `mode` typically preserves the axis it acts along. In SciPy 1.11.0, this behavior will change: the default value of `keepdims` will become False, the `axis` over which the statistic is taken will be eliminated, and the value None will no longer be accepted. Set `keepdims` to True or False to avoid this warning.\n",
      "  mode, _ = stats.mode(_y[neigh_ind, k], axis=1)\n"
     ]
    },
    {
     "name": "stdout",
     "output_type": "stream",
     "text": [
      "[CV 4/5] END n_neighbors=5, p=2, weights=uniform;, score=0.812 total time=   0.4s\n"
     ]
    },
    {
     "name": "stderr",
     "output_type": "stream",
     "text": [
      "C:\\Users\\HP\\anaconda3\\lib\\site-packages\\sklearn\\neighbors\\_classification.py:228: FutureWarning: Unlike other reduction functions (e.g. `skew`, `kurtosis`), the default behavior of `mode` typically preserves the axis it acts along. In SciPy 1.11.0, this behavior will change: the default value of `keepdims` will become False, the `axis` over which the statistic is taken will be eliminated, and the value None will no longer be accepted. Set `keepdims` to True or False to avoid this warning.\n",
      "  mode, _ = stats.mode(_y[neigh_ind, k], axis=1)\n"
     ]
    },
    {
     "name": "stdout",
     "output_type": "stream",
     "text": [
      "[CV 5/5] END n_neighbors=5, p=2, weights=uniform;, score=0.796 total time=   0.6s\n",
      "[CV 1/5] END n_neighbors=5, p=2, weights=distance;, score=0.793 total time=   0.5s\n",
      "[CV 2/5] END n_neighbors=5, p=2, weights=distance;, score=0.812 total time=   0.4s\n",
      "[CV 3/5] END n_neighbors=5, p=2, weights=distance;, score=0.818 total time=   0.5s\n",
      "[CV 4/5] END n_neighbors=5, p=2, weights=distance;, score=0.813 total time=   0.4s\n",
      "[CV 5/5] END n_neighbors=5, p=2, weights=distance;, score=0.797 total time=   0.4s\n"
     ]
    },
    {
     "name": "stderr",
     "output_type": "stream",
     "text": [
      "C:\\Users\\HP\\anaconda3\\lib\\site-packages\\sklearn\\neighbors\\_classification.py:228: FutureWarning: Unlike other reduction functions (e.g. `skew`, `kurtosis`), the default behavior of `mode` typically preserves the axis it acts along. In SciPy 1.11.0, this behavior will change: the default value of `keepdims` will become False, the `axis` over which the statistic is taken will be eliminated, and the value None will no longer be accepted. Set `keepdims` to True or False to avoid this warning.\n",
      "  mode, _ = stats.mode(_y[neigh_ind, k], axis=1)\n"
     ]
    },
    {
     "name": "stdout",
     "output_type": "stream",
     "text": [
      "[CV 1/5] END n_neighbors=10, p=1, weights=uniform;, score=0.859 total time=   0.6s\n"
     ]
    },
    {
     "name": "stderr",
     "output_type": "stream",
     "text": [
      "C:\\Users\\HP\\anaconda3\\lib\\site-packages\\sklearn\\neighbors\\_classification.py:228: FutureWarning: Unlike other reduction functions (e.g. `skew`, `kurtosis`), the default behavior of `mode` typically preserves the axis it acts along. In SciPy 1.11.0, this behavior will change: the default value of `keepdims` will become False, the `axis` over which the statistic is taken will be eliminated, and the value None will no longer be accepted. Set `keepdims` to True or False to avoid this warning.\n",
      "  mode, _ = stats.mode(_y[neigh_ind, k], axis=1)\n"
     ]
    },
    {
     "name": "stdout",
     "output_type": "stream",
     "text": [
      "[CV 2/5] END n_neighbors=10, p=1, weights=uniform;, score=0.862 total time=   0.6s\n"
     ]
    },
    {
     "name": "stderr",
     "output_type": "stream",
     "text": [
      "C:\\Users\\HP\\anaconda3\\lib\\site-packages\\sklearn\\neighbors\\_classification.py:228: FutureWarning: Unlike other reduction functions (e.g. `skew`, `kurtosis`), the default behavior of `mode` typically preserves the axis it acts along. In SciPy 1.11.0, this behavior will change: the default value of `keepdims` will become False, the `axis` over which the statistic is taken will be eliminated, and the value None will no longer be accepted. Set `keepdims` to True or False to avoid this warning.\n",
      "  mode, _ = stats.mode(_y[neigh_ind, k], axis=1)\n"
     ]
    },
    {
     "name": "stdout",
     "output_type": "stream",
     "text": [
      "[CV 3/5] END n_neighbors=10, p=1, weights=uniform;, score=0.882 total time=   0.6s\n"
     ]
    },
    {
     "name": "stderr",
     "output_type": "stream",
     "text": [
      "C:\\Users\\HP\\anaconda3\\lib\\site-packages\\sklearn\\neighbors\\_classification.py:228: FutureWarning: Unlike other reduction functions (e.g. `skew`, `kurtosis`), the default behavior of `mode` typically preserves the axis it acts along. In SciPy 1.11.0, this behavior will change: the default value of `keepdims` will become False, the `axis` over which the statistic is taken will be eliminated, and the value None will no longer be accepted. Set `keepdims` to True or False to avoid this warning.\n",
      "  mode, _ = stats.mode(_y[neigh_ind, k], axis=1)\n"
     ]
    },
    {
     "name": "stdout",
     "output_type": "stream",
     "text": [
      "[CV 4/5] END n_neighbors=10, p=1, weights=uniform;, score=0.866 total time=   0.5s\n"
     ]
    },
    {
     "name": "stderr",
     "output_type": "stream",
     "text": [
      "C:\\Users\\HP\\anaconda3\\lib\\site-packages\\sklearn\\neighbors\\_classification.py:228: FutureWarning: Unlike other reduction functions (e.g. `skew`, `kurtosis`), the default behavior of `mode` typically preserves the axis it acts along. In SciPy 1.11.0, this behavior will change: the default value of `keepdims` will become False, the `axis` over which the statistic is taken will be eliminated, and the value None will no longer be accepted. Set `keepdims` to True or False to avoid this warning.\n",
      "  mode, _ = stats.mode(_y[neigh_ind, k], axis=1)\n"
     ]
    },
    {
     "name": "stdout",
     "output_type": "stream",
     "text": [
      "[CV 5/5] END n_neighbors=10, p=1, weights=uniform;, score=0.863 total time=   0.5s\n",
      "[CV 1/5] END n_neighbors=10, p=1, weights=distance;, score=0.879 total time=   0.3s\n",
      "[CV 2/5] END n_neighbors=10, p=1, weights=distance;, score=0.873 total time=   0.3s\n",
      "[CV 3/5] END n_neighbors=10, p=1, weights=distance;, score=0.887 total time=   0.3s\n",
      "[CV 4/5] END n_neighbors=10, p=1, weights=distance;, score=0.882 total time=   0.3s\n",
      "[CV 5/5] END n_neighbors=10, p=1, weights=distance;, score=0.880 total time=   0.4s\n"
     ]
    },
    {
     "name": "stderr",
     "output_type": "stream",
     "text": [
      "C:\\Users\\HP\\anaconda3\\lib\\site-packages\\sklearn\\neighbors\\_classification.py:228: FutureWarning: Unlike other reduction functions (e.g. `skew`, `kurtosis`), the default behavior of `mode` typically preserves the axis it acts along. In SciPy 1.11.0, this behavior will change: the default value of `keepdims` will become False, the `axis` over which the statistic is taken will be eliminated, and the value None will no longer be accepted. Set `keepdims` to True or False to avoid this warning.\n",
      "  mode, _ = stats.mode(_y[neigh_ind, k], axis=1)\n"
     ]
    },
    {
     "name": "stdout",
     "output_type": "stream",
     "text": [
      "[CV 1/5] END n_neighbors=10, p=2, weights=uniform;, score=0.790 total time=   0.4s\n"
     ]
    },
    {
     "name": "stderr",
     "output_type": "stream",
     "text": [
      "C:\\Users\\HP\\anaconda3\\lib\\site-packages\\sklearn\\neighbors\\_classification.py:228: FutureWarning: Unlike other reduction functions (e.g. `skew`, `kurtosis`), the default behavior of `mode` typically preserves the axis it acts along. In SciPy 1.11.0, this behavior will change: the default value of `keepdims` will become False, the `axis` over which the statistic is taken will be eliminated, and the value None will no longer be accepted. Set `keepdims` to True or False to avoid this warning.\n",
      "  mode, _ = stats.mode(_y[neigh_ind, k], axis=1)\n"
     ]
    },
    {
     "name": "stdout",
     "output_type": "stream",
     "text": [
      "[CV 2/5] END n_neighbors=10, p=2, weights=uniform;, score=0.794 total time=   0.4s\n"
     ]
    },
    {
     "name": "stderr",
     "output_type": "stream",
     "text": [
      "C:\\Users\\HP\\anaconda3\\lib\\site-packages\\sklearn\\neighbors\\_classification.py:228: FutureWarning: Unlike other reduction functions (e.g. `skew`, `kurtosis`), the default behavior of `mode` typically preserves the axis it acts along. In SciPy 1.11.0, this behavior will change: the default value of `keepdims` will become False, the `axis` over which the statistic is taken will be eliminated, and the value None will no longer be accepted. Set `keepdims` to True or False to avoid this warning.\n",
      "  mode, _ = stats.mode(_y[neigh_ind, k], axis=1)\n"
     ]
    },
    {
     "name": "stdout",
     "output_type": "stream",
     "text": [
      "[CV 3/5] END n_neighbors=10, p=2, weights=uniform;, score=0.797 total time=   0.4s\n"
     ]
    },
    {
     "name": "stderr",
     "output_type": "stream",
     "text": [
      "C:\\Users\\HP\\anaconda3\\lib\\site-packages\\sklearn\\neighbors\\_classification.py:228: FutureWarning: Unlike other reduction functions (e.g. `skew`, `kurtosis`), the default behavior of `mode` typically preserves the axis it acts along. In SciPy 1.11.0, this behavior will change: the default value of `keepdims` will become False, the `axis` over which the statistic is taken will be eliminated, and the value None will no longer be accepted. Set `keepdims` to True or False to avoid this warning.\n",
      "  mode, _ = stats.mode(_y[neigh_ind, k], axis=1)\n"
     ]
    },
    {
     "name": "stdout",
     "output_type": "stream",
     "text": [
      "[CV 4/5] END n_neighbors=10, p=2, weights=uniform;, score=0.787 total time=   0.4s\n"
     ]
    },
    {
     "name": "stderr",
     "output_type": "stream",
     "text": [
      "C:\\Users\\HP\\anaconda3\\lib\\site-packages\\sklearn\\neighbors\\_classification.py:228: FutureWarning: Unlike other reduction functions (e.g. `skew`, `kurtosis`), the default behavior of `mode` typically preserves the axis it acts along. In SciPy 1.11.0, this behavior will change: the default value of `keepdims` will become False, the `axis` over which the statistic is taken will be eliminated, and the value None will no longer be accepted. Set `keepdims` to True or False to avoid this warning.\n",
      "  mode, _ = stats.mode(_y[neigh_ind, k], axis=1)\n"
     ]
    },
    {
     "name": "stdout",
     "output_type": "stream",
     "text": [
      "[CV 5/5] END n_neighbors=10, p=2, weights=uniform;, score=0.792 total time=   0.5s\n",
      "[CV 1/5] END n_neighbors=10, p=2, weights=distance;, score=0.808 total time=   0.4s\n",
      "[CV 2/5] END n_neighbors=10, p=2, weights=distance;, score=0.805 total time=   0.3s\n",
      "[CV 3/5] END n_neighbors=10, p=2, weights=distance;, score=0.813 total time=   0.3s\n",
      "[CV 4/5] END n_neighbors=10, p=2, weights=distance;, score=0.815 total time=   0.4s\n",
      "[CV 5/5] END n_neighbors=10, p=2, weights=distance;, score=0.808 total time=   0.3s\n"
     ]
    },
    {
     "data": {
      "text/plain": [
       "GridSearchCV(estimator=KNeighborsClassifier(),\n",
       "             param_grid={'n_neighbors': [3, 5, 10], 'p': [1, 2],\n",
       "                         'weights': ['uniform', 'distance']},\n",
       "             verbose=3)"
      ]
     },
     "execution_count": 20,
     "metadata": {},
     "output_type": "execute_result"
    }
   ],
   "source": [
    "from sklearn.model_selection import GridSearchCV\n",
    "\n",
    "# defining parameter range\n",
    "param_grid = {'n_neighbors': [3,5,10],\n",
    "              'weights': [\"uniform\",\"distance\"],\n",
    "              'p': [1,2],\n",
    "              }\n",
    "\n",
    "grid = GridSearchCV(KNeighborsClassifier(), param_grid, refit = True, verbose = 3)\n",
    "\n",
    "# fitting the model for grid search\n",
    "grid.fit(X_train_scaled, y_train)\n"
   ]
  },
  {
   "cell_type": "code",
   "execution_count": 21,
   "id": "a9478904",
   "metadata": {},
   "outputs": [
    {
     "name": "stdout",
     "output_type": "stream",
     "text": [
      "{'n_neighbors': 10, 'p': 1, 'weights': 'distance'}\n",
      "KNeighborsClassifier(n_neighbors=10, p=1, weights='distance')\n"
     ]
    }
   ],
   "source": [
    "print(grid.best_params_)\n",
    "print(grid.best_estimator_)"
   ]
  },
  {
   "cell_type": "code",
   "execution_count": 22,
   "id": "585790cb",
   "metadata": {},
   "outputs": [
    {
     "name": "stdout",
     "output_type": "stream",
     "text": [
      "Accuracy of SVM classifier:  89.0 %\n"
     ]
    }
   ],
   "source": [
    "# Accuracy\n",
    "svc_Score = round(grid.score(X_test_scaled,y_test),2)\n",
    "print(\"Accuracy of SVM classifier: \",svc_Score*100,\"%\")"
   ]
  },
  {
   "cell_type": "code",
   "execution_count": 23,
   "id": "80605455",
   "metadata": {},
   "outputs": [
    {
     "data": {
      "image/png": "[encoded data removed]",
      "text/plain": [
       "<Figure size 300x300 with 1 Axes>"
      ]
     },
     "metadata": {},
     "output_type": "display_data"
    }
   ],
   "source": [
    "from sklearn.metrics import ConfusionMatrixDisplay\n",
    "fig,ax = plt.subplots(figsize=(3,3))\n",
    "ConfusionMatrixDisplay.from_predictions(y_test,y_preds,colorbar=False,cmap=\"copper\",ax=ax);\n",
    "ax.set_title(\"KNN classifier\");"
   ]
  },
  {
   "cell_type": "code",
   "execution_count": 24,
   "id": "1e35d8db",
   "metadata": {},
   "outputs": [
    {
     "name": "stdout",
     "output_type": "stream",
     "text": [
      "              precision    recall  f1-score   support\n",
      "\n",
      "         0.0       0.83      0.79      0.81      1281\n",
      "         1.0       0.80      0.84      0.82      1282\n",
      "\n",
      "    accuracy                           0.82      2563\n",
      "   macro avg       0.82      0.82      0.82      2563\n",
      "weighted avg       0.82      0.82      0.82      2563\n",
      "\n"
     ]
    }
   ],
   "source": [
    "from sklearn.metrics import classification_report\n",
    "\n",
    "print(classification_report(y_test,y_preds))"
   ]
  },
  {
   "cell_type": "code",
   "execution_count": 25,
   "id": "f6be9b5d",
   "metadata": {},
   "outputs": [
    {
     "data": {
      "text/html": [
       "<div>\n",
       "<style scoped>\n",
       "    .dataframe tbody tr th:only-of-type {\n",
       "        vertical-align: middle;\n",
       "    }\n",
       "\n",
       "    .dataframe tbody tr th {\n",
       "        vertical-align: top;\n",
       "    }\n",
       "\n",
       "    .dataframe thead th {\n",
       "        text-align: right;\n",
       "    }\n",
       "</style>\n",
       "<table border=\"1\" class=\"dataframe\">\n",
       "  <thead>\n",
       "    <tr style=\"text-align: right;\">\n",
       "      <th></th>\n",
       "      <th>LogisticRegression</th>\n",
       "      <th>KNN classfier</th>\n",
       "      <th>SVM classifier</th>\n",
       "    </tr>\n",
       "  </thead>\n",
       "  <tbody>\n",
       "    <tr>\n",
       "      <th>accuracy</th>\n",
       "      <td>0.53</td>\n",
       "      <td>0.89</td>\n",
       "      <td>0.84</td>\n",
       "    </tr>\n",
       "  </tbody>\n",
       "</table>\n",
       "</div>"
      ],
      "text/plain": [
       "          LogisticRegression  KNN classfier  SVM classifier\n",
       "accuracy                0.53           0.89            0.84"
      ]
     },
     "execution_count": 25,
     "metadata": {},
     "output_type": "execute_result"
    }
   ],
   "source": [
    "score_df = pd.DataFrame({\n",
    "                         \"LogisticRegression\":0.53,\n",
    "                         \"KNN classfier\":0.89,\n",
    "                         \"SVM classifier\":0.84},index=[\"accuracy\"])\n",
    "score_df"
   ]
  },
  {
   "cell_type": "code",
   "execution_count": 33,
   "id": "38654900",
   "metadata": {},
   "outputs": [
    {
     "data": {
      "text/plain": [
       "(['LogisticRegression', 'KNN classfier', 'SVM classifier'], [0.53, 0.89, 0.84])"
      ]
     },
     "execution_count": 33,
     "metadata": {},
     "output_type": "execute_result"
    }
   ],
   "source": [
    "list(score_df.T.index), list(score_df.T.accuracy)"
   ]
  },
  {
   "cell_type": "code",
   "execution_count": 52,
   "id": "53392af9",
   "metadata": {},
   "outputs": [
    {
     "data": {
      "image/png": "[encoded data removed]",
      "text/plain": [
       "<Figure size 600x500 with 1 Axes>"
      ]
     },
     "metadata": {},
     "output_type": "display_data"
    }
   ],
   "source": [
    "\n",
    "def addlabel(x,y):\n",
    "    for i in range(len(x)):\n",
    "        plt.text(i,y[i],y[i], ha = 'center',bbox = dict(facecolor = 'yellow', alpha =.8))\n",
    "        \n",
    "score_df.T.plot(kind='bar',figsize=(6,5),color=\"b\");\n",
    "#ax.set_xticklabels(['LogisticRegression','KNN classfier','SVM classifier'],rotation=10)\n",
    "plt.title(\"Accuracy comparison\",fontdict={\"fontweight\":\"bold\"},pad=10)\n",
    "plt.xticks(rotation=0)\n",
    "addlabel(list(score_df.T.index), list(score_df.T.accuracy))\n",
    "plt.xlabel(\"Models\",fontdict={\"fontweight\":\"bold\"})\n",
    "plt.ylabel(\"Accuracy(0-1)\",fontdict={\"fontweight\":\"bold\"})\n",
    "plt.legend(loc=2)\n",
    "plt.savefig(r\"C:\\Users\\HP\\Notebook files\\IP\\plt generated\\accuracy.png\")\n"
   ]
  },
  {
   "cell_type": "code",
   "execution_count": 53,
   "id": "5390bf6e",
   "metadata": {},
   "outputs": [],
   "source": [
    "import pickle\n",
    "filename = \"knn_eeg_model.pkl\"\n",
    "pickle.dump(classifier,open(filename,'wb'))"
   ]
  },
  {
   "cell_type": "code",
   "execution_count": null,
   "id": "eaa73aad",
   "metadata": {},
   "outputs": [],
   "source": []
  }
 ],
 "metadata": {
  "kernelspec": {
   "display_name": "Python 3 (ipykernel)",
   "language": "python",
   "name": "python3"
  },
  "language_info": {
   "codemirror_mode": {
    "name": "ipython",
    "version": 3
   },
   "file_extension": ".py",
   "mimetype": "text/x-python",
   "name": "python",
   "nbconvert_exporter": "python",
   "pygments_lexer": "ipython3",
   "version": "3.9.13"
  }
 },
 "nbformat": 4,
 "nbformat_minor": 5
}
